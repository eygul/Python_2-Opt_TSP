{
  "nbformat": 4,
  "nbformat_minor": 0,
  "metadata": {
    "colab": {
      "provenance": [],
      "include_colab_link": true
    },
    "kernelspec": {
      "name": "python3",
      "display_name": "Python 3"
    }
  },
  "cells": [
    {
      "cell_type": "markdown",
      "metadata": {
        "id": "view-in-github",
        "colab_type": "text"
      },
      "source": [
        "<a href=\"https://colab.research.google.com/github/eygul/Python_2-Opt_TSP/blob/main/L02_gule.ipynb\" target=\"_parent\"><img src=\"https://colab.research.google.com/assets/colab-badge.svg\" alt=\"Open In Colab\"/></a>"
      ]
    },
    {
      "cell_type": "markdown",
      "metadata": {
        "id": "Ws6rXa1xv_gv"
      },
      "source": [
        "# [L02: Implementing 2-Opt TSP](https://docs.google.com/document/d/1JA_CWBXPN6whvJAemnJLvtYJ3Pbk84dTUolWO_QqosA/edit?usp=sharing)\n",
        "Written by Dr. Jan Pearce, Berea College\n",
        "\n",
        "Complete the code by meeting all linked requirements and fixing all FIXMEs\n",
        "\n",
        "## Your Name: Eren Gul"
      ]
    },
    {
      "cell_type": "markdown",
      "metadata": {
        "id": "PvEpt0HPKq9X"
      },
      "source": [
        "**SUMMARY**: My original design and implementation based on the readings about 2-opt, however, since I was taking an iterative approach on building this algorithm, my implementation of the design evolved a bit over time. I spent a few hours doing research and implementation.\n",
        "\n",
        "**PERSONNEL**: I worked on this project all by myself.\n",
        "\n",
        "\n",
        "**CHALLENGES**: Largest challenge so far was correctly identifying and swapping crossing edges in the 2-opt algorithm while maintaining a valid tour.\n",
        "\n",
        "\n",
        "**INNOVATIONS**: No innovations were made in implementing the required functions for\n",
        "\n",
        "**TESTING**: I took an iterative approach, and when the IDE (Google Colab) gave me an error running my code, I further debugged it until I was able to get the desired results from the function. I did not run any unit tests or anything like that/\n",
        "\n",
        "**ERRORS**: N/A\n",
        "\n",
        "\n",
        "**COMMENTS**: In my opinion, it was considerably harder than the first lab. Though, implementing the ideas we learn in class into actual code is always fun."
      ]
    },
    {
      "cell_type": "markdown",
      "metadata": {
        "id": "lRXe-Atyv30H"
      },
      "source": [
        "## Import Libraries"
      ]
    },
    {
      "cell_type": "code",
      "metadata": {
        "id": "b6koAGG2mhix"
      },
      "source": [
        "import networkx as nx\n",
        "import matplotlib.pyplot as plt\n",
        "import math\n",
        "import random\n",
        "from urllib.request import urlopen"
      ],
      "execution_count": 2,
      "outputs": []
    },
    {
      "cell_type": "markdown",
      "metadata": {
        "id": "y-JqngNLmhVG"
      },
      "source": [
        "### Read data"
      ]
    },
    {
      "cell_type": "code",
      "metadata": {
        "id": "GzeEKA-nwLsJ",
        "outputId": "1f3113dd-1260-44cd-f42a-89d19232a87a",
        "colab": {
          "base_uri": "https://localhost:8080/"
        }
      },
      "source": [
        "def get_new_node_coords(numnodes, scale=1):\n",
        "    \"\"\"\n",
        "    Create a new graph with numnodes nodes.\n",
        "    Arguments:\n",
        "        numnodes {int} -- number of nodes for your graph\n",
        "    Keyword Arguments:\n",
        "        scale {int} -- larger numbers squeeze nodes into a smaller space\n",
        "    \"\"\"\n",
        "    nodeStr = f'{numnodes}\\n'\n",
        "    coords = []\n",
        "    for i in range(numnodes):\n",
        "        x, y = random.randint(1, numnodes//scale), random.randint(1, numnodes//scale)\n",
        "        while (x, y) in coords:\n",
        "            x, y = random.randint(1, numnodes//scale), random.randint(1, numnodes//scale)\n",
        "        coords.append((x, y))\n",
        "        nodeStr += f'{x} {y}\\n'\n",
        "    return nodeStr\n",
        "\n",
        "\n",
        "# tspdata = urlopen(\"http://cs.berea.edu/courses/csc445/data/tsp-48.txt\").read().decode('ASCII')\n",
        "# tspdata = urlopen(\"http://cs.berea.edu/courses/csc445/data/tsp-small.txt\").read().decode('ASCII')\n",
        "tspdata = get_new_node_coords(20)\n",
        "print(tspdata)"
      ],
      "execution_count": 3,
      "outputs": [
        {
          "output_type": "stream",
          "name": "stdout",
          "text": [
            "20\n",
            "14 3\n",
            "9 19\n",
            "2 9\n",
            "6 6\n",
            "2 10\n",
            "17 18\n",
            "20 14\n",
            "5 19\n",
            "17 2\n",
            "5 11\n",
            "7 4\n",
            "11 1\n",
            "17 15\n",
            "17 16\n",
            "12 9\n",
            "17 4\n",
            "4 20\n",
            "12 3\n",
            "18 5\n",
            "8 4\n",
            "\n"
          ]
        }
      ]
    },
    {
      "cell_type": "markdown",
      "metadata": {
        "id": "qGcB5022KlHL"
      },
      "source": [
        "## TSP Class"
      ]
    },
    {
      "cell_type": "code",
      "metadata": {
        "id": "KIzVOICElISX",
        "outputId": "062f2477-3e97-47cc-9da7-8f61afb13bdd",
        "colab": {
          "base_uri": "https://localhost:8080/",
          "height": 516
        }
      },
      "source": [
        "\"\"\"\n",
        "\n",
        "Given certain input, it uses the 2-opt algorithm to plot a graph and output a file of the solution path\n",
        "\"\"\"\n",
        "\n",
        "class TSP:\n",
        "\n",
        "    def __init__(self):\n",
        "        \"\"\" TSP class containing data needed for networkx graph creation, file reading and file writing.\n",
        "            Creates a graph for the traveling salesperon problem using the 2-opt algorithm\n",
        "        \"\"\"\n",
        "        self.graph = nx.DiGraph()    # Graph object\n",
        "        self.nodeData = []           # Stores node coordinates as list\n",
        "        self.coords = {}             # Stores node coordinates as dict\n",
        "        self.route = []              # Stores route as list of ints\n",
        "\n",
        "    def extractData(self, inputFile=\"\"):\n",
        "        \"\"\"\n",
        "        Iterate through the input file and append each coordinate into the node list.\n",
        "        Keyword Arguments:\n",
        "            inputFile {str} -- a string for the file name (default: {\"\"})\n",
        "        \"\"\"\n",
        "        WTSPC = ['\\n', '\\r', '\\t', ' ']\n",
        "        inputData = inputFile.split()\n",
        "        cleanData = [int(i) for i in inputData if i not in WTSPC]\n",
        "\n",
        "        self.dimension = cleanData[0]\n",
        "\n",
        "        for i in range(1, len(cleanData), 2):\n",
        "            nodeX = cleanData[i]\n",
        "            nodeY = cleanData[i + 1]\n",
        "            self.nodeData.append([nodeX, nodeY])\n",
        "\n",
        "    def setUpCoords(self):\n",
        "        \"\"\" Puts the coordinates for each node into a dictionary as a tuple with the node as the key \"\"\"\n",
        "        for i in range(len(self.nodeData)):\n",
        "            self.coords[i] = self.nodeData[i]\n",
        "\n",
        "    def calculateDistance(self, a, b):\n",
        "        \"\"\"calculates & returns the distance between points a and b\n",
        "        Arguments:\n",
        "            a {[tuple]} -- tuple of numbers for the x and y coordinate of a node\n",
        "            b {[tuple]} -- tuple of numbers for the x and y coordinate of a node\n",
        "        Returns:\n",
        "            [float] -- the distance between the two points using the distance formula\n",
        "        \"\"\"\n",
        "        x1 = float(a[0])\n",
        "        y1 = float(a[1])\n",
        "        x2 = float(b[0])\n",
        "        y2 = float(b[1])\n",
        "        xSquared = math.pow(x2 - x1, 2)\n",
        "        ySquared = math.pow(y2 - y1, 2)\n",
        "\n",
        "        # Round off for clarity when displaying edges\n",
        "        c = round(math.sqrt(xSquared + ySquared), 2)\n",
        "        return c\n",
        "\n",
        "    def getGreedyRoute(self, start):\n",
        "        \"\"\"Builds a route using the Greedy algorithm\n",
        "           Stores route in self.route\n",
        "        Arguments:\n",
        "            start {int} -- the node to start at, not a list index\n",
        "        \"\"\"\n",
        "        self.route = [start]\n",
        "        nVisited = [i for i in self.graph.nodes() if i != start]\n",
        "        current = start\n",
        "        while nVisited:\n",
        "            distances = {i: self.calculateDistance(self.coords[current], self.coords[i]) for i in nVisited}\n",
        "            minDist = 1000000000000\n",
        "            closestNode = -1\n",
        "            for node in distances:\n",
        "                if distances[node] < minDist:\n",
        "                    minDist = distances[node]\n",
        "                    closestNode = node\n",
        "            self.route.append(closestNode)\n",
        "            nVisited.remove(closestNode)\n",
        "            current = closestNode\n",
        "        self.route.append(start)\n",
        "\n",
        "    def getDirection(self, a, b, c):\n",
        "        \"\"\"Helper method for self.edgesCrossing\n",
        "        Arguments:\n",
        "            a {tuple (int, int)} -- The first endpoint of the first line\n",
        "            b {tuple (int, int)} -- The second endpoint of the first line\n",
        "            c {tuple (int, int)} -- An endpoint of the second line\n",
        "        \"\"\"\n",
        "        ax, ay = self.coords[a][0], self.coords[a][1]\n",
        "        bx, by = self.coords[b][0], self.coords[b][1]\n",
        "        cx, cy = self.coords[c][0], self.coords[c][1]\n",
        "        val = (by-ay)*(cx-bx)-(bx-ax)*(cy-by)\n",
        "        if val < 0:\n",
        "            return -1\n",
        "        elif val > 0:\n",
        "            return 1\n",
        "        return 0\n",
        "\n",
        "    def edgesCrossing(self, e1, e2):\n",
        "        \"\"\"Determines if edges e1 and e1 cross\n",
        "        Arguments:\n",
        "            e1 {tuple (int, int)} -- The first edge\n",
        "            e2 {tuple (int, int)} -- The second edge\n",
        "        Returns True if edges cross, False otherwise\n",
        "        \"\"\"\n",
        "        a, b = e1[0], e1[1]\n",
        "        c, d = e2[0], e2[1]\n",
        "\n",
        "        if (a == c or a == d) or (b == c or b == d):\n",
        "            return False\n",
        "\n",
        "        dir1 = self.getDirection(a, b, c);\n",
        "        dir2 = self.getDirection(a, b, d);\n",
        "        dir3 = self.getDirection(c, d, a);\n",
        "        dir4 = self.getDirection(c, d, b);\n",
        "\n",
        "        if dir1 != dir2 and dir3 != dir4:\n",
        "            return True\n",
        "        return False\n",
        "\n",
        "    def getCrossingEdges(self, start):\n",
        "        \"\"\"Creates a list of all pairs of edges that cross\n",
        "        Arguments:\n",
        "            start {int} -- The starting node\n",
        "        Returns list of edge pairs [ (e1, e2), (e3, e4), ... ]\n",
        "          where e1 = (int, int), e2 = (int, int), etc...\n",
        "\n",
        "          to be completed in L02\n",
        "        \"\"\"\n",
        "        edges = []\n",
        "        for i in range(len(self.route) - 1):\n",
        "          for j in range(i + 2, len(self.route) - 1):\n",
        "              e1 = (self.route[i], self.route[i + 1])\n",
        "              e2 = (self.route[j], self.route[j + 1])\n",
        "              if self.edgesCrossing(e1, e2):\n",
        "                  edges.append((e1, e2))\n",
        "        return edges\n",
        "\n",
        "    def twoOpt(self, start):\n",
        "        \"\"\" puts together the 2-opt algorithm. Gets the route order and adds the starting place to the end of the route\n",
        "        Arguments:\n",
        "            start -- the starting node for the two-Opt algorithm\n",
        "\n",
        "            to be completed in L02\n",
        "        \"\"\"\n",
        "        keep_going = True\n",
        "        while keep_going:\n",
        "          crossing_edges = self.getCrossingEdges(start)\n",
        "          if len(crossing_edges) == 0:\n",
        "            keep_going = False\n",
        "          else:\n",
        "            for edge1, edge2 in crossing_edges:\n",
        "              self.twoOptSwap(edge1, edge2)\n",
        "\n",
        "    def twoOptSwap(self, e1, e2):\n",
        "        \"\"\" performs a single swap on a pair of edges, and handles all additional\n",
        "               tasks involved in the swap\n",
        "            e1 {tuple (int, int)} -- The first edge\n",
        "            e2 {tuple (int, int)} -- The second edge\n",
        "\n",
        "            to be completed in L02\n",
        "        \"\"\"\n",
        "        a = self.route.index(e1[0])\n",
        "        b = self.route.index(e2[0])\n",
        "        segment = self.route[a + 1:b + 1]\n",
        "        segment.reverse()\n",
        "        self.route[a + 1:b + 1] = segment\n",
        "\n",
        "    def calculateTotalDistance(self):\n",
        "        \"\"\" calculates the total distance of the current route\n",
        "\n",
        "        Return calculated distance\n",
        "\n",
        "            to be completed in L02\n",
        "        \"\"\"\n",
        "        distance_sum = 0\n",
        "        for index in range(len(self.route) - 1):\n",
        "          point_a = self.coords[self.route[index]]\n",
        "          point_b = self.coords[self.route[index + 1]]\n",
        "          distance_sum += self.calculateDistance(point_a, point_b)\n",
        "        return distance_sum\n",
        "\n",
        "    def addNodes(self):\n",
        "        \"\"\" adds nodes to the networkx graph\n",
        "        \"\"\"\n",
        "\n",
        "        for node in self.coords:\n",
        "            self.graph.add_node(node, pos=self.coords[node])\n",
        "\n",
        "    def addEdges(self):\n",
        "        \"\"\"Adds graphs to the networkx graph\n",
        "        \"\"\"\n",
        "\n",
        "        x = 0\n",
        "        while x < len(self.route)-1:\n",
        "            self.graph.add_edge(self.route[x], self.route[x+1],\n",
        "                                weight=self.calculateDistance(self.coords[self.route[x]], self.coords[self.route[x+1]]))\n",
        "            x += 1\n",
        "\n",
        "    def showGraph(self):\n",
        "        \"\"\"Uses the imported libraries to display the graph\n",
        "        \"\"\"\n",
        "        # get labels and coordinates for the graph\n",
        "        coords = nx.get_node_attributes(self.graph, 'pos')\n",
        "        labels = nx.get_edge_attributes(self.graph, 'weight')\n",
        "        # draw nodes in their coordinates\n",
        "        nx.draw(self.graph, coords)\n",
        "        nx.draw_networkx_labels(self.graph, coords)\n",
        "        # draw edges with their weights\n",
        "        nx.draw_networkx_edge_labels(self.graph, coords, edge_labels=labels)\n",
        "        plt.show()\n",
        "\n",
        "\n",
        "def main():\n",
        "    tsp = TSP()\n",
        "\n",
        "    tsp.extractData(tspdata)\n",
        "    tsp.setUpCoords()\n",
        "    tsp.addNodes()\n",
        "    tsp.getGreedyRoute(1) # feel free to use your solution from L01\n",
        "    tsp.addEdges()\n",
        "    tsp.twoOpt(1)\n",
        "    tsp.showGraph()\n",
        "\n",
        "\n",
        "main()"
      ],
      "execution_count": 4,
      "outputs": [
        {
          "output_type": "display_data",
          "data": {
            "text/plain": [
              "<Figure size 640x480 with 1 Axes>"
            ],
            "image/png": "[encoded data removed]"
          },
          "metadata": {}
        }
      ]
    },
    {
      "cell_type": "markdown",
      "metadata": {
        "id": "_ga-NF0L7ZBf"
      },
      "source": [
        "## Integrity statement\n",
        "Please briefly describe all references you used, all help you received, and all help you gave to others in completing this assignment. Be sure to say that you got no help if you got none."
      ]
    },
    {
      "cell_type": "markdown",
      "metadata": {
        "id": "-6HarsXemeKP"
      },
      "source": []
    }
  ]
}